{
 "cells": [
  {
   "cell_type": "code",
   "execution_count": 2,
   "metadata": {},
   "outputs": [],
   "source": [
    "from tensorflow.keras.models import Sequential\n",
    "from tensorflow.keras.layers import Dense, Dropout, Flatten, Conv2D, MaxPooling2D\n",
    "from keras.metrics import Precision, Recall\n",
    "from sklearn.metrics import f1_score\n",
    "from tensorflow.keras.preprocessing.image import ImageDataGenerator\n",
    "from tensorflow.keras.models import load_model\n",
    "import numpy as np\n",
    "from tensorflow.keras.preprocessing import image"
   ]
  },
  {
   "cell_type": "code",
   "execution_count": 20,
   "metadata": {},
   "outputs": [],
   "source": [
    "model2 = Sequential()\n",
    "model2.add(Conv2D(filters=64, kernel_size=(3, 3), activation=\"relu\", input_shape=(240, 240, 3)))\n",
    "model2.add(MaxPooling2D(pool_size=(2, 2)))\n",
    "model2.add(Conv2D(filters=128, kernel_size=(3, 3), activation=\"relu\"))\n",
    "model2.add(MaxPooling2D(pool_size=(2, 2)))\n",
    "model2.add(Conv2D(filters=256, kernel_size=(3, 3), activation=\"relu\"))\n",
    "model2.add(MaxPooling2D(pool_size=(2, 2)))\n",
    "\n",
    "model2.add(Flatten())\n",
    "model2.add(Dense(units=256, activation=\"relu\"))\n",
    "model2.add(Dropout(0.5))\n",
    "model2.add(Dense(units=128, activation=\"relu\"))\n",
    "model2.add(Dropout(0.5))\n",
    "model2.add(Dense(units=64, activation=\"relu\"))\n",
    "model2.add(Dense(units=2, activation=\"softmax\"))"
   ]
  },
  {
   "cell_type": "code",
   "execution_count": 21,
   "metadata": {},
   "outputs": [],
   "source": [
    "model2.compile(optimizer=\"adam\",loss=\"binary_crossentropy\",metrics=[\"accuracy\", Precision(), Recall()])"
   ]
  },
  {
   "cell_type": "code",
   "execution_count": 22,
   "metadata": {},
   "outputs": [
    {
     "name": "stdout",
     "output_type": "stream",
     "text": [
      "Found 687 images belonging to 2 classes.\n"
     ]
    },
    {
     "name": "stdout",
     "output_type": "stream",
     "text": [
      "Found 687 images belonging to 2 classes.\n"
     ]
    }
   ],
   "source": [
    "data_dir = r'C:\\Users\\melis\\WTech_YZE\\bitirmeProjesi_CNN\\image classification with cnn\\data'\n",
    "\n",
    "datagen = ImageDataGenerator(\n",
    "    rescale=1./255,\n",
    "    shear_range=0.2,\n",
    "    zoom_range=0.2,\n",
    "    horizontal_flip=True,\n",
    "    validation_split=0.2\n",
    ")\n",
    "\n",
    "validation_datagen = ImageDataGenerator(rescale=1./255)\n",
    "\n",
    "train_generator = datagen.flow_from_directory(\n",
    "    data_dir,\n",
    "    target_size=(240, 240),\n",
    "    batch_size=32,\n",
    "    class_mode='categorical'\n",
    ")\n",
    "\n",
    "validation_generator = validation_datagen.flow_from_directory(\n",
    "    data_dir,\n",
    "    target_size=(240, 240),\n",
    "    batch_size=32,\n",
    "    class_mode='categorical'\n",
    ")\n"
   ]
  },
  {
   "cell_type": "code",
   "execution_count": 19,
   "metadata": {},
   "outputs": [
    {
     "name": "stdout",
     "output_type": "stream",
     "text": [
      "Epoch 1/2\n",
      "22/22 [==============================] - 84s 4s/step - loss: 0.7760 - accuracy: 0.4993 - precision_1: 0.4993 - recall_1: 1.0000 - val_loss: 0.6986 - val_accuracy: 0.4993 - val_precision_1: 0.4993 - val_recall_1: 1.0000\n",
      "Epoch 2/2\n",
      "22/22 [==============================] - 86s 4s/step - loss: 0.6960 - accuracy: 0.4993 - precision_1: 0.4993 - recall_1: 1.0000 - val_loss: 0.6931 - val_accuracy: 0.4993 - val_precision_1: 0.4993 - val_recall_1: 1.0000\n"
     ]
    }
   ],
   "source": [
    "history_2epoch=model2.fit(train_generator,epochs=2,validation_data=validation_generator)"
   ]
  },
  {
   "cell_type": "code",
   "execution_count": 10,
   "metadata": {},
   "outputs": [
    {
     "name": "stdout",
     "output_type": "stream",
     "text": [
      "Epoch 1/60\n",
      "22/22 [==============================] - 82s 4s/step - loss: 0.8162 - accuracy: 0.5211 - precision_1: 0.5211 - recall_1: 0.5211 - val_loss: 0.6935 - val_accuracy: 0.5182 - val_precision_1: 0.5182 - val_recall_1: 0.5182\n",
      "Epoch 2/60\n",
      "22/22 [==============================] - 84s 4s/step - loss: 0.6912 - accuracy: 0.5226 - precision_1: 0.5226 - recall_1: 0.5226 - val_loss: 0.6927 - val_accuracy: 0.5051 - val_precision_1: 0.5051 - val_recall_1: 0.5051\n",
      "Epoch 3/60\n",
      "22/22 [==============================] - 84s 4s/step - loss: 0.6926 - accuracy: 0.5095 - precision_1: 0.5095 - recall_1: 0.5095 - val_loss: 0.6924 - val_accuracy: 0.5095 - val_precision_1: 0.5095 - val_recall_1: 0.5095\n",
      "Epoch 4/60\n",
      "22/22 [==============================] - 85s 4s/step - loss: 0.6925 - accuracy: 0.5400 - precision_1: 0.5400 - recall_1: 0.5400 - val_loss: 0.6962 - val_accuracy: 0.5007 - val_precision_1: 0.5007 - val_recall_1: 0.5007\n",
      "Epoch 5/60\n",
      "22/22 [==============================] - 87s 4s/step - loss: 0.6941 - accuracy: 0.5386 - precision_1: 0.5386 - recall_1: 0.5386 - val_loss: 0.6933 - val_accuracy: 0.5007 - val_precision_1: 0.5007 - val_recall_1: 0.5007\n",
      "Epoch 6/60\n",
      "22/22 [==============================] - 93s 4s/step - loss: 0.6933 - accuracy: 0.5007 - precision_1: 0.5007 - recall_1: 0.5007 - val_loss: 0.6929 - val_accuracy: 0.5007 - val_precision_1: 0.5007 - val_recall_1: 0.5007\n",
      "Epoch 7/60\n",
      "22/22 [==============================] - 94s 4s/step - loss: 0.6930 - accuracy: 0.5226 - precision_1: 0.5226 - recall_1: 0.5226 - val_loss: 0.6907 - val_accuracy: 0.5517 - val_precision_1: 0.5517 - val_recall_1: 0.5517\n",
      "Epoch 8/60\n",
      "22/22 [==============================] - 88s 4s/step - loss: 0.6931 - accuracy: 0.5531 - precision_1: 0.5531 - recall_1: 0.5531 - val_loss: 0.6881 - val_accuracy: 0.5313 - val_precision_1: 0.5313 - val_recall_1: 0.5313\n",
      "Epoch 9/60\n",
      "22/22 [==============================] - 87s 4s/step - loss: 0.6934 - accuracy: 0.5560 - precision_1: 0.5560 - recall_1: 0.5560 - val_loss: 0.6871 - val_accuracy: 0.5007 - val_precision_1: 0.5007 - val_recall_1: 0.5007\n",
      "Epoch 10/60\n",
      "22/22 [==============================] - 86s 4s/step - loss: 0.6916 - accuracy: 0.5080 - precision_1: 0.5080 - recall_1: 0.5080 - val_loss: 0.6871 - val_accuracy: 0.5109 - val_precision_1: 0.5109 - val_recall_1: 0.5109\n",
      "Epoch 11/60\n",
      "22/22 [==============================] - 88s 4s/step - loss: 0.6889 - accuracy: 0.5182 - precision_1: 0.5182 - recall_1: 0.5182 - val_loss: 0.6779 - val_accuracy: 0.5560 - val_precision_1: 0.5560 - val_recall_1: 0.5560\n",
      "Epoch 12/60\n",
      "22/22 [==============================] - 87s 4s/step - loss: 0.6869 - accuracy: 0.5488 - precision_1: 0.5488 - recall_1: 0.5488 - val_loss: 0.6810 - val_accuracy: 0.6390 - val_precision_1: 0.6390 - val_recall_1: 0.6390\n",
      "Epoch 13/60\n",
      "22/22 [==============================] - 87s 4s/step - loss: 0.6749 - accuracy: 0.5997 - precision_1: 0.5997 - recall_1: 0.5997 - val_loss: 0.6643 - val_accuracy: 0.6128 - val_precision_1: 0.6128 - val_recall_1: 0.6128\n",
      "Epoch 14/60\n",
      "22/22 [==============================] - 86s 4s/step - loss: 0.6863 - accuracy: 0.5852 - precision_1: 0.5852 - recall_1: 0.5852 - val_loss: 0.6519 - val_accuracy: 0.6608 - val_precision_1: 0.6608 - val_recall_1: 0.6608\n",
      "Epoch 15/60\n",
      "22/22 [==============================] - 89s 4s/step - loss: 0.6678 - accuracy: 0.5910 - precision_1: 0.5910 - recall_1: 0.5910 - val_loss: 0.6502 - val_accuracy: 0.5764 - val_precision_1: 0.5764 - val_recall_1: 0.5764\n",
      "Epoch 16/60\n",
      "22/22 [==============================] - 89s 4s/step - loss: 0.6603 - accuracy: 0.6317 - precision_1: 0.6317 - recall_1: 0.6317 - val_loss: 0.6557 - val_accuracy: 0.6201 - val_precision_1: 0.6201 - val_recall_1: 0.6201\n",
      "Epoch 17/60\n",
      "22/22 [==============================] - 90s 4s/step - loss: 0.6586 - accuracy: 0.6172 - precision_1: 0.6172 - recall_1: 0.6172 - val_loss: 0.6283 - val_accuracy: 0.6579 - val_precision_1: 0.6579 - val_recall_1: 0.6579\n",
      "Epoch 18/60\n",
      "22/22 [==============================] - 91s 4s/step - loss: 0.6531 - accuracy: 0.6157 - precision_1: 0.6157 - recall_1: 0.6157 - val_loss: 0.6222 - val_accuracy: 0.6856 - val_precision_1: 0.6856 - val_recall_1: 0.6856\n",
      "Epoch 19/60\n",
      "22/22 [==============================] - 94s 4s/step - loss: 0.6482 - accuracy: 0.6448 - precision_1: 0.6448 - recall_1: 0.6448 - val_loss: 0.5875 - val_accuracy: 0.7118 - val_precision_1: 0.7118 - val_recall_1: 0.7118\n",
      "Epoch 20/60\n",
      "22/22 [==============================] - 90s 4s/step - loss: 0.6343 - accuracy: 0.6390 - precision_1: 0.6390 - recall_1: 0.6390 - val_loss: 0.5930 - val_accuracy: 0.7132 - val_precision_1: 0.7132 - val_recall_1: 0.7132\n",
      "Epoch 21/60\n",
      "22/22 [==============================] - 88s 4s/step - loss: 0.6183 - accuracy: 0.6856 - precision_1: 0.6856 - recall_1: 0.6856 - val_loss: 0.5929 - val_accuracy: 0.6492 - val_precision_1: 0.6492 - val_recall_1: 0.6492\n",
      "Epoch 22/60\n",
      "22/22 [==============================] - 88s 4s/step - loss: 0.6092 - accuracy: 0.6798 - precision_1: 0.6798 - recall_1: 0.6798 - val_loss: 0.5877 - val_accuracy: 0.6929 - val_precision_1: 0.6929 - val_recall_1: 0.6929\n",
      "Epoch 23/60\n",
      "22/22 [==============================] - 88s 4s/step - loss: 0.6626 - accuracy: 0.6696 - precision_1: 0.6696 - recall_1: 0.6696 - val_loss: 0.5418 - val_accuracy: 0.7293 - val_precision_1: 0.7293 - val_recall_1: 0.7293\n",
      "Epoch 24/60\n",
      "22/22 [==============================] - 86s 4s/step - loss: 0.5990 - accuracy: 0.6987 - precision_1: 0.6987 - recall_1: 0.6987 - val_loss: 0.5642 - val_accuracy: 0.6754 - val_precision_1: 0.6754 - val_recall_1: 0.6754\n",
      "Epoch 25/60\n",
      "22/22 [==============================] - 87s 4s/step - loss: 0.6121 - accuracy: 0.6885 - precision_1: 0.6885 - recall_1: 0.6885 - val_loss: 0.5557 - val_accuracy: 0.7234 - val_precision_1: 0.7234 - val_recall_1: 0.7234\n",
      "Epoch 26/60\n",
      "22/22 [==============================] - 92s 4s/step - loss: 0.6434 - accuracy: 0.6987 - precision_1: 0.6987 - recall_1: 0.6987 - val_loss: 0.5056 - val_accuracy: 0.7802 - val_precision_1: 0.7802 - val_recall_1: 0.7802\n",
      "Epoch 27/60\n",
      "22/22 [==============================] - 86s 4s/step - loss: 0.6115 - accuracy: 0.6579 - precision_1: 0.6579 - recall_1: 0.6579 - val_loss: 0.4924 - val_accuracy: 0.7846 - val_precision_1: 0.7846 - val_recall_1: 0.7846\n",
      "Epoch 28/60\n",
      "22/22 [==============================] - 88s 4s/step - loss: 0.5592 - accuracy: 0.7191 - precision_1: 0.7191 - recall_1: 0.7191 - val_loss: 0.4770 - val_accuracy: 0.8035 - val_precision_1: 0.8035 - val_recall_1: 0.8035\n",
      "Epoch 29/60\n",
      "22/22 [==============================] - 88s 4s/step - loss: 0.5269 - accuracy: 0.7511 - precision_1: 0.7511 - recall_1: 0.7511 - val_loss: 0.4288 - val_accuracy: 0.8137 - val_precision_1: 0.8137 - val_recall_1: 0.8137\n",
      "Epoch 30/60\n",
      "22/22 [==============================] - 93s 4s/step - loss: 0.5409 - accuracy: 0.7394 - precision_1: 0.7394 - recall_1: 0.7394 - val_loss: 0.4352 - val_accuracy: 0.8122 - val_precision_1: 0.8122 - val_recall_1: 0.8122\n",
      "Epoch 31/60\n",
      "22/22 [==============================] - 93s 4s/step - loss: 0.5450 - accuracy: 0.7132 - precision_1: 0.7132 - recall_1: 0.7132 - val_loss: 0.4155 - val_accuracy: 0.8195 - val_precision_1: 0.8195 - val_recall_1: 0.8195\n",
      "Epoch 32/60\n",
      "22/22 [==============================] - 87s 4s/step - loss: 0.4905 - accuracy: 0.7627 - precision_1: 0.7627 - recall_1: 0.7627 - val_loss: 0.3857 - val_accuracy: 0.8311 - val_precision_1: 0.8311 - val_recall_1: 0.8311\n",
      "Epoch 33/60\n",
      "22/22 [==============================] - 94s 4s/step - loss: 0.4882 - accuracy: 0.7671 - precision_1: 0.7671 - recall_1: 0.7671 - val_loss: 0.3620 - val_accuracy: 0.8603 - val_precision_1: 0.8603 - val_recall_1: 0.8603\n",
      "Epoch 34/60\n",
      "22/22 [==============================] - 96s 4s/step - loss: 0.4927 - accuracy: 0.7889 - precision_1: 0.7889 - recall_1: 0.7889 - val_loss: 0.3668 - val_accuracy: 0.8413 - val_precision_1: 0.8413 - val_recall_1: 0.8413\n",
      "Epoch 35/60\n",
      "22/22 [==============================] - 94s 4s/step - loss: 0.4632 - accuracy: 0.7933 - precision_1: 0.7933 - recall_1: 0.7933 - val_loss: 0.3244 - val_accuracy: 0.8661 - val_precision_1: 0.8661 - val_recall_1: 0.8661\n",
      "Epoch 36/60\n",
      "22/22 [==============================] - 95s 4s/step - loss: 0.4397 - accuracy: 0.8006 - precision_1: 0.8006 - recall_1: 0.8006 - val_loss: 0.2860 - val_accuracy: 0.8937 - val_precision_1: 0.8937 - val_recall_1: 0.8937\n",
      "Epoch 37/60\n",
      "22/22 [==============================] - 93s 4s/step - loss: 0.4052 - accuracy: 0.8093 - precision_1: 0.8093 - recall_1: 0.8093 - val_loss: 0.2518 - val_accuracy: 0.9083 - val_precision_1: 0.9083 - val_recall_1: 0.9083\n",
      "Epoch 38/60\n",
      "22/22 [==============================] - 96s 4s/step - loss: 0.3861 - accuracy: 0.8210 - precision_1: 0.8210 - recall_1: 0.8210 - val_loss: 0.2865 - val_accuracy: 0.8952 - val_precision_1: 0.8952 - val_recall_1: 0.8952\n",
      "Epoch 39/60\n",
      "22/22 [==============================] - 101s 5s/step - loss: 0.3295 - accuracy: 0.8559 - precision_1: 0.8559 - recall_1: 0.8559 - val_loss: 0.2203 - val_accuracy: 0.9156 - val_precision_1: 0.9156 - val_recall_1: 0.9156\n",
      "Epoch 40/60\n",
      "22/22 [==============================] - 97s 4s/step - loss: 0.3726 - accuracy: 0.8399 - precision_1: 0.8399 - recall_1: 0.8399 - val_loss: 0.2244 - val_accuracy: 0.9185 - val_precision_1: 0.9185 - val_recall_1: 0.9185\n",
      "Epoch 41/60\n",
      "22/22 [==============================] - 99s 5s/step - loss: 0.4046 - accuracy: 0.8108 - precision_1: 0.8108 - recall_1: 0.8108 - val_loss: 0.2360 - val_accuracy: 0.9229 - val_precision_1: 0.9229 - val_recall_1: 0.9229\n",
      "Epoch 42/60\n",
      "22/22 [==============================] - 104s 5s/step - loss: 0.3327 - accuracy: 0.8530 - precision_1: 0.8530 - recall_1: 0.8530 - val_loss: 0.2063 - val_accuracy: 0.9389 - val_precision_1: 0.9389 - val_recall_1: 0.9389\n",
      "Epoch 43/60\n",
      "22/22 [==============================] - 89s 4s/step - loss: 0.3321 - accuracy: 0.8675 - precision_1: 0.8675 - recall_1: 0.8675 - val_loss: 0.1981 - val_accuracy: 0.9374 - val_precision_1: 0.9374 - val_recall_1: 0.9374\n",
      "Epoch 44/60\n",
      "22/22 [==============================] - 88s 4s/step - loss: 0.2601 - accuracy: 0.9039 - precision_1: 0.9039 - recall_1: 0.9039 - val_loss: 0.1611 - val_accuracy: 0.9432 - val_precision_1: 0.9432 - val_recall_1: 0.9432\n",
      "Epoch 45/60\n",
      "22/22 [==============================] - 88s 4s/step - loss: 0.2831 - accuracy: 0.8879 - precision_1: 0.8879 - recall_1: 0.8879 - val_loss: 0.1494 - val_accuracy: 0.9505 - val_precision_1: 0.9505 - val_recall_1: 0.9505\n",
      "Epoch 46/60\n",
      "22/22 [==============================] - 89s 4s/step - loss: 0.2751 - accuracy: 0.8865 - precision_1: 0.8865 - recall_1: 0.8865 - val_loss: 0.1552 - val_accuracy: 0.9520 - val_precision_1: 0.9520 - val_recall_1: 0.9520\n",
      "Epoch 47/60\n",
      "22/22 [==============================] - 87s 4s/step - loss: 0.2988 - accuracy: 0.8821 - precision_1: 0.8821 - recall_1: 0.8821 - val_loss: 0.1470 - val_accuracy: 0.9505 - val_precision_1: 0.9505 - val_recall_1: 0.9505\n",
      "Epoch 48/60\n",
      "22/22 [==============================] - 87s 4s/step - loss: 0.2715 - accuracy: 0.8908 - precision_1: 0.8908 - recall_1: 0.8908 - val_loss: 0.1283 - val_accuracy: 0.9592 - val_precision_1: 0.9592 - val_recall_1: 0.9592\n",
      "Epoch 49/60\n",
      "22/22 [==============================] - 88s 4s/step - loss: 0.2588 - accuracy: 0.8996 - precision_1: 0.8996 - recall_1: 0.8996 - val_loss: 0.1094 - val_accuracy: 0.9636 - val_precision_1: 0.9636 - val_recall_1: 0.9636\n",
      "Epoch 50/60\n",
      "22/22 [==============================] - 87s 4s/step - loss: 0.2711 - accuracy: 0.8923 - precision_1: 0.8923 - recall_1: 0.8923 - val_loss: 0.1066 - val_accuracy: 0.9665 - val_precision_1: 0.9665 - val_recall_1: 0.9665\n",
      "Epoch 51/60\n",
      "22/22 [==============================] - 87s 4s/step - loss: 0.2235 - accuracy: 0.9156 - precision_1: 0.9156 - recall_1: 0.9156 - val_loss: 0.1033 - val_accuracy: 0.9651 - val_precision_1: 0.9651 - val_recall_1: 0.9651\n",
      "Epoch 52/60\n",
      "22/22 [==============================] - 88s 4s/step - loss: 0.2152 - accuracy: 0.9229 - precision_1: 0.9229 - recall_1: 0.9229 - val_loss: 0.0943 - val_accuracy: 0.9694 - val_precision_1: 0.9694 - val_recall_1: 0.9694\n",
      "Epoch 53/60\n",
      "22/22 [==============================] - 99s 5s/step - loss: 0.1864 - accuracy: 0.9389 - precision_1: 0.9389 - recall_1: 0.9389 - val_loss: 0.0832 - val_accuracy: 0.9665 - val_precision_1: 0.9665 - val_recall_1: 0.9665\n",
      "Epoch 54/60\n",
      "22/22 [==============================] - 100s 5s/step - loss: 0.1866 - accuracy: 0.9214 - precision_1: 0.9214 - recall_1: 0.9214 - val_loss: 0.0740 - val_accuracy: 0.9753 - val_precision_1: 0.9753 - val_recall_1: 0.9753\n",
      "Epoch 55/60\n",
      "22/22 [==============================] - 93s 4s/step - loss: 0.2191 - accuracy: 0.9287 - precision_1: 0.9287 - recall_1: 0.9287 - val_loss: 0.0650 - val_accuracy: 0.9811 - val_precision_1: 0.9811 - val_recall_1: 0.9811\n",
      "Epoch 56/60\n",
      "22/22 [==============================] - 96s 4s/step - loss: 0.1815 - accuracy: 0.9272 - precision_1: 0.9272 - recall_1: 0.9272 - val_loss: 0.0654 - val_accuracy: 0.9825 - val_precision_1: 0.9825 - val_recall_1: 0.9825\n",
      "Epoch 57/60\n",
      "22/22 [==============================] - 98s 4s/step - loss: 0.1677 - accuracy: 0.9345 - precision_1: 0.9345 - recall_1: 0.9345 - val_loss: 0.0430 - val_accuracy: 0.9913 - val_precision_1: 0.9913 - val_recall_1: 0.9913\n",
      "Epoch 58/60\n",
      "22/22 [==============================] - 95s 4s/step - loss: 0.1786 - accuracy: 0.9374 - precision_1: 0.9374 - recall_1: 0.9374 - val_loss: 0.0433 - val_accuracy: 0.9942 - val_precision_1: 0.9942 - val_recall_1: 0.9942\n",
      "Epoch 59/60\n",
      "22/22 [==============================] - 98s 4s/step - loss: 0.2019 - accuracy: 0.9316 - precision_1: 0.9316 - recall_1: 0.9316 - val_loss: 0.0741 - val_accuracy: 0.9884 - val_precision_1: 0.9884 - val_recall_1: 0.9884\n",
      "Epoch 60/60\n",
      "22/22 [==============================] - 97s 4s/step - loss: 0.2200 - accuracy: 0.9243 - precision_1: 0.9243 - recall_1: 0.9243 - val_loss: 0.0577 - val_accuracy: 0.9825 - val_precision_1: 0.9825 - val_recall_1: 0.9825\n"
     ]
    }
   ],
   "source": [
    "history2 = model2.fit(\n",
    "    train_generator,\n",
    "    steps_per_epoch=len(train_generator),\n",
    "    epochs=60,\n",
    "    validation_data=validation_generator,\n",
    "    validation_steps=len(validation_generator)\n",
    ")"
   ]
  },
  {
   "cell_type": "code",
   "execution_count": null,
   "metadata": {},
   "outputs": [],
   "source": [
    "import matplotlib.pyplot as plt\n",
    "\n",
    "# Eğitim ve doğrulama kaybı\n",
    "train_loss = history2.history['loss']\n",
    "val_loss = history2.history['val_loss']\n",
    "\n",
    "# Eğitim ve doğrulama doğruluğu\n",
    "train_acc = history2.history['accuracy']\n",
    "val_acc = history2.history['val_accuracy']\n",
    "\n",
    "# Epoch sayısı\n",
    "epochs = range(1, len(train_loss) + 1)\n",
    "\n",
    "# Kayıp grafiği\n",
    "plt.plot(epochs, train_loss, 'b', label='Eğitim Kaybı')\n",
    "plt.plot(epochs, val_loss, 'r', label='Doğrulama Kaybı')\n",
    "plt.title('Eğitim ve Doğrulama Kaybı')\n",
    "plt.xlabel('Epoch')\n",
    "plt.ylabel('Kayıp')\n",
    "plt.legend()\n",
    "\n",
    "# Doğruluk grafiği\n",
    "plt.twinx()\n",
    "plt.plot(epochs, train_acc, 'b--', label='Eğitim Doğruluğu')\n",
    "plt.plot(epochs, val_acc, 'r--', label='Doğrulama Doğruluğu')\n",
    "plt.ylabel('Doğruluk')\n",
    "\n",
    "# Grafik ayarları\n",
    "plt.grid(True)\n",
    "plt.tight_layout()\n",
    "\n",
    "# Grafik adını ve uzantısını belirleyerek kaydetme\n",
    "plt.savefig('egitim_ve_dogrulama_grafigi_h3.png')\n",
    "\n",
    "# Grafik gösterme\n",
    "plt.show()\n"
   ]
  },
  {
   "cell_type": "code",
   "execution_count": null,
   "metadata": {},
   "outputs": [],
   "source": [
    "precision_values = history2.history['precision_1']\n",
    "recall_values = history2.history['recall_1']"
   ]
  },
  {
   "cell_type": "code",
   "execution_count": null,
   "metadata": {},
   "outputs": [],
   "source": [
    "last_f1_score  = 2 * (precision_values[-1] * recall_values[-1]) / (precision_values[-1] + recall_values[-1]) \n",
    "last_f1_score"
   ]
  },
  {
   "cell_type": "code",
   "execution_count": null,
   "metadata": {},
   "outputs": [],
   "source": [
    "len(precision_values)"
   ]
  },
  {
   "cell_type": "code",
   "execution_count": null,
   "metadata": {},
   "outputs": [],
   "source": [
    "max_f1_score  = 2 * (max(precision_values) * max(recall_values)) / (max(precision_values) + max(recall_values)) \n",
    "print(f\"max F1 score: {max_f1_score}\\nrecall epoch değeri: {recall_values.index(max(recall_values))}\\npresicion epoch değeri:{precision_values.index(max(precision_values))}\")"
   ]
  },
  {
   "cell_type": "code",
   "execution_count": null,
   "metadata": {},
   "outputs": [],
   "source": [
    "model2.save('models/dog-cat2.h5')"
   ]
  },
  {
   "cell_type": "code",
   "execution_count": 30,
   "metadata": {},
   "outputs": [
    {
     "name": "stdout",
     "output_type": "stream",
     "text": [
      "Model: \"sequential_3\"\n",
      "_________________________________________________________________\n",
      " Layer (type)                Output Shape              Param #   \n",
      "=================================================================\n",
      " conv2d_9 (Conv2D)           (None, 238, 238, 64)      1792      \n",
      "                                                                 \n",
      " max_pooling2d_9 (MaxPoolin  (None, 119, 119, 64)      0         \n",
      " g2D)                                                            \n",
      "                                                                 \n",
      " conv2d_10 (Conv2D)          (None, 117, 117, 128)     73856     \n",
      "                                                                 \n",
      " max_pooling2d_10 (MaxPooli  (None, 58, 58, 128)       0         \n",
      " ng2D)                                                           \n",
      "                                                                 \n",
      " conv2d_11 (Conv2D)          (None, 56, 56, 256)       295168    \n",
      "                                                                 \n",
      " max_pooling2d_11 (MaxPooli  (None, 28, 28, 256)       0         \n",
      " ng2D)                                                           \n",
      "                                                                 \n",
      " flatten_3 (Flatten)         (None, 200704)            0         \n",
      "                                                                 \n",
      " dense_12 (Dense)            (None, 256)               51380480  \n",
      "                                                                 \n",
      " dropout_6 (Dropout)         (None, 256)               0         \n",
      "                                                                 \n",
      " dense_13 (Dense)            (None, 128)               32896     \n",
      "                                                                 \n",
      " dropout_7 (Dropout)         (None, 128)               0         \n",
      "                                                                 \n",
      " dense_14 (Dense)            (None, 64)                8256      \n",
      "                                                                 \n",
      " dense_15 (Dense)            (None, 1)                 65        \n",
      "                                                                 \n",
      "=================================================================\n",
      "Total params: 51792513 (197.57 MB)\n",
      "Trainable params: 51792513 (197.57 MB)\n",
      "Non-trainable params: 0 (0.00 Byte)\n",
      "_________________________________________________________________\n"
     ]
    }
   ],
   "source": [
    "model2.summary()"
   ]
  },
  {
   "cell_type": "code",
   "execution_count": 43,
   "metadata": {},
   "outputs": [
    {
     "name": "stdout",
     "output_type": "stream",
     "text": [
      "1/1 [==============================] - 0s 188ms/step\n",
      "[[0.27242315 0.72757685]]\n",
      "0.72757685\n"
     ]
    }
   ],
   "source": [
    "model = load_model('models/dog-cat2.h5')\n",
    "\n",
    "test_image = image.load_img('test\\dog_4.jpg', target_size=(240,240))\n",
    "test_image = image.img_to_array(test_image)\n",
    "test_image = np.expand_dims(test_image, axis=0) / 255.0\n",
    "result = model.predict(test_image)\n",
    "print(result)   \n",
    "sorted_result_indexes = np.argsort(result[0])[::-1]\n",
    "sorted_result = result[0][sorted_result_indexes]\n",
    "\n",
    "print(sorted_result[0])"
   ]
  },
  {
   "cell_type": "code",
   "execution_count": null,
   "metadata": {},
   "outputs": [],
   "source": []
  }
 ],
 "metadata": {
  "kernelspec": {
   "display_name": "wtech",
   "language": "python",
   "name": "python3"
  },
  "language_info": {
   "codemirror_mode": {
    "name": "ipython",
    "version": 3
   },
   "file_extension": ".py",
   "mimetype": "text/x-python",
   "name": "python",
   "nbconvert_exporter": "python",
   "pygments_lexer": "ipython3",
   "version": "3.11.8"
  }
 },
 "nbformat": 4,
 "nbformat_minor": 2
}
